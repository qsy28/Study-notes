{
 "cells": [
  {
   "cell_type": "markdown",
   "metadata": {},
   "source": [
    "# Markdown学习笔记"
   ]
  },
  {
   "cell_type": "markdown",
   "metadata": {},
   "source": [
    "## 基础用法"
   ]
  },
  {
   "cell_type": "markdown",
   "metadata": {},
   "source": [
    "下面是一条分割线\n",
    "\n",
    "---\n",
    "\n",
    "**文本**\n",
    "\n",
    "*文本*\n",
    "\n",
    "**文本**\n",
    "\n",
    "***文本***\n",
    "\n",
    "~~文本~~\n",
    "\n",
    "[^脚注文本]:这是脚注\n"
   ]
  },
  {
   "cell_type": "markdown",
   "metadata": {},
   "source": [
    "**列表**\n",
    "\n",
    "- 无序列表\n",
    "    - 无序列表\n",
    "        - 无序列表\n",
    "            - 无序列表\n",
    "                * 无序列表\n",
    "* 无序列表\n",
    "+ 无序列表"
   ]
  },
  {
   "cell_type": "markdown",
   "metadata": {},
   "source": [
    "1. 有序列表\n",
    "    1. 有序列表\n",
    "        1. 有序列表\n",
    "            1. 有序列表\n",
    "                1. 有序列表\n",
    "2. 有序列表\n",
    "    * 无序列表"
   ]
  },
  {
   "cell_type": "markdown",
   "metadata": {},
   "source": [
    "**引用**\n",
    "\n",
    "> 这是引用文字\n",
    ">> 第一层嵌套\n",
    "\n",
    "\n",
    "> 区块引用中的列表\n",
    "> 1. 第一\n",
    "> 2. 第二"
   ]
  },
  {
   "cell_type": "markdown",
   "metadata": {},
   "source": [
    "**代码块**\n",
    "\n",
    "\n",
    "```python\n",
    "print(\"hello world\")\n",
    "```"
   ]
  },
  {
   "cell_type": "markdown",
   "metadata": {},
   "source": [
    "这这是一个函数`print(\"hello world\")`"
   ]
  },
  {
   "cell_type": "markdown",
   "metadata": {},
   "source": [
    "**链接**\n",
    "\n",
    "这是个人的学习笔记：[study-notes](https://github.com/qsy28/study-notes)\n",
    "\n",
    "<https://github.com/qsy28/study-notes>\n",
    "\n",
    "高级链接：\n",
    "\n",
    "这是链接用 1 作为网址变量[学习笔记][1]\n",
    "\n",
    "\n",
    "链接放在文档末尾\n",
    "\n",
    "\n",
    "\n",
    "[1]:https://github.com/qsy28/study-notes"
   ]
  },
  {
   "cell_type": "markdown",
   "metadata": {},
   "source": [
    "**图片**\n",
    "\n",
    "![alt 这是一张图](http://static.runoob.com/images/runoob-logo.png \"这里是图的名字\")\n",
    "\n",
    "用`img`标签可规定图片的高度与宽度\n",
    "<img src=\"http://static.runoob.com/images/runoob-logo.png\" width=\"50%\">"
   ]
  },
  {
   "cell_type": "markdown",
   "metadata": {},
   "source": [
    "**表格**\n",
    "\n",
    "Markdown 制作表格使用 | 来分隔不同的单元格，使用 - 来分隔表头和其他行。\n",
    "\n",
    "| 要学的东西 | 学习进度 | 学习难度 |\n",
    "| :----------: | :-------- | ----: |\n",
    "| 统计学 | 100% | 5 |\n",
    "| python | 80% | 4 |"
   ]
  },
  {
   "cell_type": "markdown",
   "metadata": {},
   "source": [
    "## 高级用法"
   ]
  },
  {
   "cell_type": "markdown",
   "metadata": {},
   "source": [
    "### 支持html元素\n",
    "\n",
    "之前设置图片的`img`\n",
    "\n",
    "\n",
    "设置字体颜色、大小、字体类型`font`\n",
    "\n",
    "\n",
    "<font face='黑体' color='red' size=6>黑体红色6号</font>\n",
    "\n",
    "\n",
    "还有其他的HTML元素：`<kbd>`  `<b>`  `<i>`  `<em>`  `<sup>`  `<sub>`  `<br>`等"
   ]
  },
  {
   "cell_type": "markdown",
   "metadata": {},
   "source": [
    "### 公式\n",
    "\n",
    "在 LaTeX 中用` ^` 和` _ `标明**上下标**。上下标的内容如果包含多个字符，需要使用花括号 {} 来将其区分。\n",
    "\n",
    "$$\n",
    "k_{n+1} = k_n^2 + n^{2n-1}\n",
    "$$\n",
    "\n",
    "**导数**`'`\n",
    "\n",
    "$$\n",
    "f'(x) = x^2\n",
    "$$\n",
    "\n",
    "公式之间的**间隙**`\\quad`\n",
    "\n",
    "$$\n",
    "f'(x) = 3x^2\\quad f(x) = x^3\n",
    "$$\n",
    "\n",
    "**分式**`\\frac{分子}{分母}`但是当你在书写连续分数时，需要用到`\\cfrac`。(在jupyter notebook两者皆可用，无论是连续的还是不连续的)\n",
    "\n",
    "$$\n",
    "b = \\cfrac{1}{n^2}\n",
    "$$\n",
    "$$\n",
    "c = a_0 + \\frac{1}{a_1 + \\cfrac{1}{a_2}}\n",
    "$$\n",
    "\n",
    "**根式**`\\sqrt[n]{...}`\n",
    "\n",
    "$$\n",
    "\\sqrt[n]{1+x^2+x^3}\n",
    "$$\n",
    "\n",
    "**关系符**\n",
    "\n",
    "`=，>，<，`直接输入 \n",
    "\n",
    "不等号≠ `\\ne`\n",
    "\n",
    "大于等于号 ≥ `\\ge`\n",
    "\n",
    "小于等于号 ≤ `\\le`\n",
    "\n",
    "约等号 ≈ `\\approx`\n",
    "\n",
    "等价 ≡ `\\equiv`\n",
    "\n",
    "$$\n",
    "\\ne\\quad \\ge\\quad \\le\\quad \\approx\\quad \\equiv\n",
    "$$\n",
    "\n",
    "**算符**\n",
    "\n",
    "加减乘除 `+、−、∗、/`可直接输入\n",
    "\n",
    "乘号 × `\\times`\n",
    "\n",
    "除号 ÷ `\\div`\n",
    "\n",
    "点乘 · `\\cdot`\n",
    "\n",
    "加减号 ± `\\pm `/ ∓ `\\mp`\n",
    "\n",
    "三角函数：\n",
    "`\\sin` \n",
    "`\\cos`\n",
    "`\\tan`\n",
    "`\\cot`\n",
    "\n",
    "$$\n",
    "\\cos(2\\theta) = \\cos^2\\theta - \\sin^2\\theta\n",
    "$$\n",
    "\n",
    "**极限**`\\lim`\n",
    "\n",
    "$$\n",
    "\\lim_{x\\rightarrow 0}\\frac{\\sin x}{x} = 1\n",
    "$$\n",
    "\n",
    "**积分号** ∫`\\int`\n",
    "\n",
    "$$\n",
    "\\int_{0}^x f(x)dx\n",
    "$$\n",
    "\n",
    "\n",
    "**求和号** ∑ `\\sum` \n",
    "\n",
    "$$\n",
    "\\sum_{k=1}^N k^3\n",
    "$$\n",
    "\n",
    "**箭头**：常用的箭头包括→ (`\\rightarrow` 或 `\\to`）、← （`\\leftarrow` 或 `\\gets`）。\n",
    "\n",
    "$$\n",
    "a\\xrightarrow{x+y+z} b\n",
    "$$\n",
    "\n",
    "**括号和定界符**\n",
    "\n",
    "LaTeX 提供了多种括号和定界符表示公式块的边界，如小括号` ()`、中括号` []`、大括号` {}` (**需要用反斜杠转义**)、尖括号 ⟨⟩ (`\\langle \\rangle`)、上括号(`\\overbrace`)、下括号(`\\underbrace`)等。\n",
    "\n",
    "$$\n",
    "(a,b,c) \\ne \\{ a,b,c \\}\n",
    "$$\n",
    "$$\n",
    "[a,b,c] \\ne \\{ a,b,c \\}\n",
    "$$\n",
    "\n",
    "如果你对括号大小不满意，还可以自行调节大小。\n",
    "$$\n",
    "\\bigl( \\Bigl( \\biggl( \\Biggl( \\quad \\bigr\\} \\Bigr\\} \\biggr\\} \\Biggr\\} \\quad\n",
    "$$\n",
    "\n",
    "\n",
    "**一般的符号就是其英文名称**，比如希腊字母符号（字母英文名称）如 α `\\alpha`、β `\\beta` 等，无穷大符号为 ∞ `\\infty`等。"
   ]
  },
  {
   "cell_type": "markdown",
   "metadata": {},
   "source": [
    "公式的对齐`&`与换行`\\\\`\n",
    "\n",
    "`\\begin{align}` `\\end{align}` **多行输入**\n",
    "\n",
    "$$\n",
    "\\begin{align}\n",
    "a & = b + c \\\\\n",
    "& = d +e\n",
    "\\end{align}\n",
    "$$"
   ]
  },
  {
   "cell_type": "markdown",
   "metadata": {},
   "source": [
    "**数组与矩阵**\n",
    "\n",
    "`\\begin{matrix}` `\\end{matrix}`\n",
    "\n",
    "`pmatrix ( `、`bmatrix [`、`Bmatrix {`\n",
    "\n",
    "$$\n",
    "A_{m,n} = \n",
    "\\begin{pmatrix} \n",
    "a_{1,1} & a_{1,2} & \\cdots & a_{1,n} \\\\ \n",
    "a_{2,1} & a_{2,2} & \\cdots & a_{2,n} \\\\ \n",
    "\\vdots & \\vdots & \\ddots & \\vdots \\\\ \n",
    "a_{m,1} & a_{m,2} & \\cdots & a_{m,n} \n",
    "\\end{pmatrix}\n",
    "$$"
   ]
  },
  {
   "cell_type": "code",
   "execution_count": null,
   "metadata": {},
   "outputs": [],
   "source": []
  }
 ],
 "metadata": {
  "kernelspec": {
   "display_name": "Python 3",
   "language": "python",
   "name": "python3"
  },
  "language_info": {
   "codemirror_mode": {
    "name": "ipython",
    "version": 3
   },
   "file_extension": ".py",
   "mimetype": "text/x-python",
   "name": "python",
   "nbconvert_exporter": "python",
   "pygments_lexer": "ipython3",
   "version": "3.7.3"
  },
  "toc": {
   "base_numbering": 1,
   "nav_menu": {},
   "number_sections": true,
   "sideBar": true,
   "skip_h1_title": false,
   "title_cell": "Table of Contents",
   "title_sidebar": "Contents",
   "toc_cell": false,
   "toc_position": {},
   "toc_section_display": true,
   "toc_window_display": false
  },
  "varInspector": {
   "cols": {
    "lenName": 16,
    "lenType": 16,
    "lenVar": 40
   },
   "kernels_config": {
    "python": {
     "delete_cmd_postfix": "",
     "delete_cmd_prefix": "del ",
     "library": "var_list.py",
     "varRefreshCmd": "print(var_dic_list())"
    },
    "r": {
     "delete_cmd_postfix": ") ",
     "delete_cmd_prefix": "rm(",
     "library": "var_list.r",
     "varRefreshCmd": "cat(var_dic_list()) "
    }
   },
   "types_to_exclude": [
    "module",
    "function",
    "builtin_function_or_method",
    "instance",
    "_Feature"
   ],
   "window_display": false
  }
 },
 "nbformat": 4,
 "nbformat_minor": 2
}
