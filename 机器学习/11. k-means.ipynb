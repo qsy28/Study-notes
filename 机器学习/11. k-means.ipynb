{
 "cells": [
  {
   "cell_type": "markdown",
   "metadata": {},
   "source": [
    "# 聚类\n",
    "\n",
    "特点：没有目标值\n",
    "\n",
    "什么样的聚类效果好？  <span class=\"mark\">**簇内相似度高且簇间相似度低**</span>\n",
    "\n",
    "聚类既能作为一个单独的过程，用于找寻数据内在分布的规律，也可作为分类等其他学习任务的前驱过程。\n",
    "\n",
    "**性能度量：**\n",
    "\n",
    "- 外部指标：将聚类的结果与某个“参考模型”进行比较\n",
    "\n",
    "    - Jaccard系数（越大越好）\n",
    "    \n",
    "    - FM指数（越大越好）\n",
    "    \n",
    "    - Rand指数（越大越好）\n",
    "\n",
    "- 内部指标：直接考察聚类结果\n",
    "\n",
    "    - DB指数（越小越好）\n",
    "    \n",
    "    - Dunn指数（越大越好）"
   ]
  },
  {
   "cell_type": "markdown",
   "metadata": {},
   "source": [
    "## k-means"
   ]
  },
  {
   "attachments": {},
   "cell_type": "markdown",
   "metadata": {},
   "source": [
    "### 1. 步骤\n",
    "\n",
    "- ① 随机设置K个特征空间内的点作为初始的聚类中心\n",
    "\n",
    "- ②对于其他每个点计算到K个中心的距离，未知的点选择最近的一个聚类中心点作为标记类别\n",
    "\n",
    "- ③ 接着对着标记的聚类中心之后，重新计算出每个聚类的新中心点（平均值）\n",
    "\n",
    "- ④ 如果计算得出的新中心点与原中心点一样，那么结束，否则重新进行第二步过程"
   ]
  },
  {
   "cell_type": "markdown",
   "metadata": {},
   "source": [
    "### 2. API调用：\n",
    "\n",
    "#### `sklearn.cluster.KMeans(n_cluster=n,init='k-means++')`\n",
    "  \n",
    "    - n_cluster:k值\n",
    "    - init:初始化方法"
   ]
  },
  {
   "cell_type": "markdown",
   "metadata": {},
   "source": [
    "### 3. 案例"
   ]
  },
  {
   "cell_type": "code",
   "execution_count": 2,
   "metadata": {},
   "outputs": [],
   "source": [
    "from sklearn.cluster import KMeans"
   ]
  },
  {
   "cell_type": "code",
   "execution_count": null,
   "metadata": {},
   "outputs": [],
   "source": [
    "# 实例化一个对象\n",
    "km = KMeans(n_cluster=n)\n",
    "# 训练模型\n",
    "km.fit(data)\n",
    "# 输出聚类结果\n",
    "predict = km.predict(x)"
   ]
  },
  {
   "cell_type": "markdown",
   "metadata": {},
   "source": [
    "### 4. 性能评估"
   ]
  },
  {
   "cell_type": "markdown",
   "metadata": {},
   "source": [
    " **轮廓系数**：[-1,1] 值越大越好\n",
    " \n",
    "a.计算样本点到本身族的平均值$a_i$\n",
    "  \n",
    "b.计算样本点到其他族群所有样本的距离，然后取其最小值$b_i$\n",
    "     \n",
    "c.$sc_i=\\frac{b_i-a_i}{max\\{b_i,a_i\\}}$\n",
    "        \n",
    "d.最终计算出所有样本点的轮廓系数的平均值"
   ]
  },
  {
   "cell_type": "markdown",
   "metadata": {},
   "source": [
    "**`sklearn.metrics.silhouette_score(X,labels)`**：计算轮廓系数\n",
    "- X:特征值\n",
    "- labels:聚类标记"
   ]
  },
  {
   "cell_type": "code",
   "execution_count": 1,
   "metadata": {},
   "outputs": [],
   "source": [
    "from sklearn.metrics import silhouette_score"
   ]
  },
  {
   "cell_type": "code",
   "execution_count": null,
   "metadata": {},
   "outputs": [],
   "source": [
    "silhouette_score(data,predict)\n",
    "# 可以利用轮廓系数来判断 n 取什么值比较合适"
   ]
  },
  {
   "cell_type": "markdown",
   "metadata": {},
   "source": [
    "### 5. 优缺点\n",
    "\n",
    "- 优点：迭代式算法发，直观、简单且实用\n",
    "\n",
    "- 缺点：容易收敛到局部最优解"
   ]
  },
  {
   "cell_type": "markdown",
   "metadata": {},
   "source": [
    "### 6. 面试问题：\n",
    "\n",
    "   - k值如何确定\n",
    "   \n",
    "   - 多维向量的均值如何计算"
   ]
  },
  {
   "cell_type": "code",
   "execution_count": null,
   "metadata": {},
   "outputs": [],
   "source": []
  }
 ],
 "metadata": {
  "kernelspec": {
   "display_name": "Python 3",
   "language": "python",
   "name": "python3"
  },
  "language_info": {
   "codemirror_mode": {
    "name": "ipython",
    "version": 3
   },
   "file_extension": ".py",
   "mimetype": "text/x-python",
   "name": "python",
   "nbconvert_exporter": "python",
   "pygments_lexer": "ipython3",
   "version": "3.8.5"
  },
  "varInspector": {
   "cols": {
    "lenName": 16,
    "lenType": 16,
    "lenVar": 40
   },
   "kernels_config": {
    "python": {
     "delete_cmd_postfix": "",
     "delete_cmd_prefix": "del ",
     "library": "var_list.py",
     "varRefreshCmd": "print(var_dic_list())"
    },
    "r": {
     "delete_cmd_postfix": ") ",
     "delete_cmd_prefix": "rm(",
     "library": "var_list.r",
     "varRefreshCmd": "cat(var_dic_list()) "
    }
   },
   "types_to_exclude": [
    "module",
    "function",
    "builtin_function_or_method",
    "instance",
    "_Feature"
   ],
   "window_display": false
  }
 },
 "nbformat": 4,
 "nbformat_minor": 4
}
