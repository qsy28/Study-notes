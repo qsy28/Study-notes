{
 "cells": [
  {
   "cell_type": "markdown",
   "metadata": {},
   "source": [
    "## KNN的原理及使用"
   ]
  },
  {
   "cell_type": "markdown",
   "metadata": {},
   "source": [
    "分类算法\n",
    "\n",
    "通过你的“邻居”来推断你的类别"
   ]
  },
  {
   "cell_type": "markdown",
   "metadata": {},
   "source": [
    "### 1. 定义：\n",
    "\n",
    "如果一个样本在特征空间中的**k个最相似**(即特征空间中最邻近)的样本中的**大多数**属于某一个类别，则该样本也属于这个类别。"
   ]
  },
  {
   "cell_type": "markdown",
   "metadata": {},
   "source": [
    "### 2. 如何计算距离\n",
    "\n",
    "- 欧式距离\n",
    "\n",
    "  $A(a_1,...a_i)$ $B(b_1,...,b_i)$\n",
    "  \n",
    "  $d = \\sqrt{(a_1-b_i)^2 + ... + (a_i-b_i)^2}$"
   ]
  },
  {
   "cell_type": "markdown",
   "metadata": {},
   "source": [
    "### 3. API调用\n",
    "\n",
    "**`sklearn.neighbors.KNeighborsClassifier(n_neighbors=5, algorithm='auto')`**\n",
    "\n",
    " n_neighbors：int,可选（默认= 5），k_neighbors查询默认使用的邻居数 \n",
    "\n",
    "algorithm：{‘auto’，‘ball_tree’，‘kd_tree’，‘brute’}，可选用于计算最近邻居的算法：‘ball_tree’将会使BallTree，‘kd_tree’将使用 KDTree。‘auto’将尝试根据传递给fit方法的值来决定最合适的算法。 (不同实现方式影响效率)!\n",
    "\n",
    "加快搜索速度——基于算法的改进KDTree,API接口里面有实现\n",
    "\n",
    "> 需要对特征进行进行标准化"
   ]
  },
  {
   "cell_type": "markdown",
   "metadata": {},
   "source": [
    "### 4. 案例：鸢尾花分类"
   ]
  },
  {
   "cell_type": "code",
   "execution_count": 21,
   "metadata": {
    "ExecuteTime": {
     "end_time": "2021-04-10T01:56:49.308385Z",
     "start_time": "2021-04-10T01:56:49.288444Z"
    }
   },
   "outputs": [],
   "source": [
    "from sklearn.datasets import load_iris\n",
    "from sklearn.model_selection import train_test_split, GridSearchCV\n",
    "from sklearn.preprocessing import StandardScaler\n",
    "from sklearn.neighbors import KNeighborsClassifier\n",
    "from sklearn.metrics import classification_report"
   ]
  },
  {
   "cell_type": "code",
   "execution_count": 28,
   "metadata": {
    "ExecuteTime": {
     "end_time": "2021-04-10T01:57:30.746994Z",
     "start_time": "2021-04-10T01:57:30.726016Z"
    }
   },
   "outputs": [],
   "source": [
    "ir = load_iris() \n",
    "\n",
    "# 获取特征值\n",
    "x = ir.data\n",
    "# 获取目标值\n",
    "y = ir.target\n",
    "# 划分数据集\n",
    "x_train, x_test, y_train, y_test = train_test_split(x,y,test_size = 0.25)\n",
    "# 特征工程（标准化）\n",
    "ss = StandardScaler()\n",
    "x_train = ss.fit_transform(x_train)\n",
    "x_test = ss.transform(x_test)"
   ]
  },
  {
   "cell_type": "code",
   "execution_count": 29,
   "metadata": {
    "ExecuteTime": {
     "end_time": "2021-04-10T01:57:31.597407Z",
     "start_time": "2021-04-10T01:57:31.581123Z"
    }
   },
   "outputs": [],
   "source": [
    "# 算法流程\n",
    "knn = KNeighborsClassifier()\n",
    "\n",
    "# # 模型训练\n",
    "# knn = KNeighborsClassifier(n_neighbors = 5)\n",
    "# knn.fit(x_train,y_train)\n",
    "\n",
    "# # 对测试集数据进行分类\n",
    "# y_predict = knn.predict(x_test)\n",
    "# y_predict"
   ]
  },
  {
   "cell_type": "code",
   "execution_count": 9,
   "metadata": {
    "ExecuteTime": {
     "end_time": "2021-04-10T01:45:13.694204Z",
     "start_time": "2021-04-10T01:45:13.676251Z"
    }
   },
   "outputs": [
    {
     "data": {
      "text/plain": [
       "0.9736842105263158"
      ]
     },
     "execution_count": 9,
     "metadata": {},
     "output_type": "execute_result"
    }
   ],
   "source": [
    "# # 计算准确率\n",
    "# knn.score(x_test, y_test)"
   ]
  },
  {
   "cell_type": "code",
   "execution_count": 10,
   "metadata": {
    "ExecuteTime": {
     "end_time": "2021-04-10T01:47:15.080349Z",
     "start_time": "2021-04-10T01:47:15.065326Z"
    }
   },
   "outputs": [
    {
     "name": "stdout",
     "output_type": "stream",
     "text": [
      "各类别的精确率与召回率：\n",
      "              precision    recall  f1-score   support\n",
      "\n",
      "      setosa       1.00      1.00      1.00        12\n",
      "  versicolor       0.92      1.00      0.96        11\n",
      "   virginica       1.00      0.93      0.97        15\n",
      "\n",
      "    accuracy                           0.97        38\n",
      "   macro avg       0.97      0.98      0.97        38\n",
      "weighted avg       0.98      0.97      0.97        38\n",
      "\n"
     ]
    }
   ],
   "source": [
    "# print(\"各类别的精确率与召回率：\")\n",
    "# print(classification_report(y_test, y_predict, target_names=ir.target_names))"
   ]
  },
  {
   "cell_type": "code",
   "execution_count": 19,
   "metadata": {
    "ExecuteTime": {
     "end_time": "2021-04-10T01:54:57.031662Z",
     "start_time": "2021-04-10T01:54:57.013084Z"
    }
   },
   "outputs": [
    {
     "name": "stdout",
     "output_type": "stream",
     "text": [
      "['accuracy', 'adjusted_mutual_info_score', 'adjusted_rand_score', 'average_precision', 'balanced_accuracy', 'completeness_score', 'explained_variance', 'f1', 'f1_macro', 'f1_micro', 'f1_samples', 'f1_weighted', 'fowlkes_mallows_score', 'homogeneity_score', 'jaccard', 'jaccard_macro', 'jaccard_micro', 'jaccard_samples', 'jaccard_weighted', 'max_error', 'mutual_info_score', 'neg_brier_score', 'neg_log_loss', 'neg_mean_absolute_error', 'neg_mean_absolute_percentage_error', 'neg_mean_gamma_deviance', 'neg_mean_poisson_deviance', 'neg_mean_squared_error', 'neg_mean_squared_log_error', 'neg_median_absolute_error', 'neg_root_mean_squared_error', 'normalized_mutual_info_score', 'precision', 'precision_macro', 'precision_micro', 'precision_samples', 'precision_weighted', 'r2', 'rand_score', 'recall', 'recall_macro', 'recall_micro', 'recall_samples', 'recall_weighted', 'roc_auc', 'roc_auc_ovo', 'roc_auc_ovo_weighted', 'roc_auc_ovr', 'roc_auc_ovr_weighted', 'top_k_accuracy', 'v_measure_score']\n"
     ]
    }
   ],
   "source": [
    "import sklearn\n",
    "# 查看能够按什么指标进行模型选择\n",
    "print(sorted(sklearn.metrics.SCORERS.keys()))"
   ]
  },
  {
   "cell_type": "code",
   "execution_count": 30,
   "metadata": {
    "ExecuteTime": {
     "end_time": "2021-04-10T01:57:35.637765Z",
     "start_time": "2021-04-10T01:57:35.571082Z"
    }
   },
   "outputs": [
    {
     "name": "stdout",
     "output_type": "stream",
     "text": [
      "0.9648221343873518\n",
      "{'n_neighbors': 10}\n"
     ]
    }
   ],
   "source": [
    "# 网格搜索\n",
    "\n",
    "# 构建参数\n",
    "param = {\"n_neighbors\": [3, 5, 10]}\n",
    "\n",
    "gc = GridSearchCV(knn, param_grid=param, cv=5, scoring='accuracy')\n",
    "gc.fit(x_train, y_train)\n",
    "\n",
    "# 最高的accuary\n",
    "print(gc.best_score_)\n",
    "# 最高的accuary对应的参数\n",
    "print(gc.best_params_)"
   ]
  },
  {
   "cell_type": "code",
   "execution_count": 33,
   "metadata": {
    "ExecuteTime": {
     "end_time": "2021-04-10T01:59:28.917263Z",
     "start_time": "2021-04-10T01:59:28.897234Z"
    }
   },
   "outputs": [
    {
     "name": "stdout",
     "output_type": "stream",
     "text": [
      "准确率： 0.9736842105263158\n",
      " \n",
      "各类别的精确率与召回率：\n",
      "              precision    recall  f1-score   support\n",
      "\n",
      "      setosa       1.00      1.00      1.00        16\n",
      "  versicolor       1.00      0.92      0.96        12\n",
      "   virginica       0.91      1.00      0.95        10\n",
      "\n",
      "    accuracy                           0.97        38\n",
      "   macro avg       0.97      0.97      0.97        38\n",
      "weighted avg       0.98      0.97      0.97        38\n",
      "\n"
     ]
    }
   ],
   "source": [
    "# 按n为10进行建模\n",
    "\n",
    "# 模型训练\n",
    "knn = KNeighborsClassifier(n_neighbors = 10)\n",
    "knn.fit(x_train,y_train)\n",
    "\n",
    "# 对测试集数据进行分类\n",
    "y_predict = knn.predict(x_test)\n",
    "\n",
    "# 计算准确率\n",
    "print(\"准确率：\", knn.score(x_test, y_test))\n",
    "print(\" \")\n",
    "\n",
    "print(\"各类别的精确率与召回率：\")\n",
    "print(classification_report(y_test, y_predict, target_names=ir.target_names))"
   ]
  },
  {
   "cell_type": "markdown",
   "metadata": {},
   "source": [
    "### 5. 模型问题\n",
    "\n",
    "- k值的选定：\n",
    "\n",
    "    - k值取很小：容易受异常点影响\n",
    "\n",
    "    - k值取很大：容易受k值数量（类别）波动\n",
    "\n",
    "- 性能问题"
   ]
  },
  {
   "cell_type": "markdown",
   "metadata": {},
   "source": [
    "### 6. 优缺点\n",
    "\n",
    "优点：\n",
    "- 简单，易于理解，易于实现，无需估计参数，无需训练\n",
    "\n",
    "缺点：\n",
    "- 懒惰算法，对测试样本分类时的计算量大，内存开销大\n",
    "- 必须指定K值，K值选择不当则分类精度不能保证"
   ]
  },
  {
   "cell_type": "markdown",
   "metadata": {},
   "source": [
    "### 7. 使用场景\n",
    "\n",
    "使用场景：小数据场景，几千～几万样本，具体场景具体业务去测试"
   ]
  },
  {
   "cell_type": "markdown",
   "metadata": {},
   "source": [
    "### 8. 网格搜索"
   ]
  },
  {
   "attachments": {},
   "cell_type": "markdown",
   "metadata": {},
   "source": [
    "**超参数：** 通常情况下，有很多参数是需要手动指定的（如k-近邻算法中的K值），这种叫超参数。\n",
    "\n",
    "但是手动过程繁杂，所以需要对模型预设几种超参数组合。每组超参数都采用**交叉验证**来进行评估。最后选出最优参数组合建立模型。\n",
    "\n",
    "\n",
    "**`sklearn.model_selection.GridSearchCV`** \n",
    "\n",
    "\n",
    "***sklearn.model_selection.GridSearchCV(estimator,param_grid=None,cv=None,scoring=)*** 对估计器的指定参数值进行详尽搜索\n",
    "\n",
    "- 参数解释：\n",
    "    - estimator：估计器对象\n",
    "    - param_grid：估计器参数(dict){“n_neighbors”:[1,3,5]}\n",
    "    - cv：指定几折交叉验证\n",
    "    - scoring：按什么指标进行模型选择\n",
    "- 使用方法：\n",
    "    - fit：输入训练数据\n",
    "    - score：计算准确率\n",
    "- 属性\n",
    "    - best_score_:在交叉验证中测试的最好结果\n",
    "    - best_estimator_：最好的参数模型\n",
    "    - cv_results_:每次交叉验证后的测试集准确率结果和训练集准确率结果"
   ]
  },
  {
   "cell_type": "code",
   "execution_count": null,
   "metadata": {},
   "outputs": [],
   "source": []
  }
 ],
 "metadata": {
  "kernelspec": {
   "display_name": "Python 3",
   "language": "python",
   "name": "python3"
  },
  "language_info": {
   "codemirror_mode": {
    "name": "ipython",
    "version": 3
   },
   "file_extension": ".py",
   "mimetype": "text/x-python",
   "name": "python",
   "nbconvert_exporter": "python",
   "pygments_lexer": "ipython3",
   "version": "3.8.5"
  },
  "varInspector": {
   "cols": {
    "lenName": 16,
    "lenType": 16,
    "lenVar": 40
   },
   "kernels_config": {
    "python": {
     "delete_cmd_postfix": "",
     "delete_cmd_prefix": "del ",
     "library": "var_list.py",
     "varRefreshCmd": "print(var_dic_list())"
    },
    "r": {
     "delete_cmd_postfix": ") ",
     "delete_cmd_prefix": "rm(",
     "library": "var_list.r",
     "varRefreshCmd": "cat(var_dic_list()) "
    }
   },
   "types_to_exclude": [
    "module",
    "function",
    "builtin_function_or_method",
    "instance",
    "_Feature"
   ],
   "window_display": false
  }
 },
 "nbformat": 4,
 "nbformat_minor": 4
}
