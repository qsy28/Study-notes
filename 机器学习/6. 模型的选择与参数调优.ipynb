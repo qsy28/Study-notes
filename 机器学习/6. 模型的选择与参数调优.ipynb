{
 "cells": [
  {
   "cell_type": "markdown",
   "metadata": {},
   "source": [
    "训练误差\n",
    "\n",
    "泛化误差\n",
    "\n",
    "学习的目的是使训练误差最小化\n",
    "\n",
    "通过什么方法计算泛化误差（测试误差）？——划分数据集（训练集与测试集）"
   ]
  },
  {
   "cell_type": "markdown",
   "metadata": {},
   "source": [
    "### 数据集的划分"
   ]
  },
  {
   "cell_type": "markdown",
   "metadata": {},
   "source": [
    "**1. 留出法**\n",
    "\n",
    "将数据集D划分为两个互斥的子集：训练集S，测试集T\n",
    "\n",
    "一般要多次使用留出法，取平均值作为评估结果（更稳定）。"
   ]
  },
  {
   "cell_type": "markdown",
   "metadata": {},
   "source": [
    "**2. k折交叉验证法**"
   ]
  },
  {
   "cell_type": "markdown",
   "metadata": {},
   "source": [
    "将数据集D划分为k个互斥的子集，每次选不同的一个子集作为测试集，其余为训练集。\n",
    "\n",
    "同样，交叉验证也有不同的划分方式将数据集分为k个子集，所以交叉验证通常也要随机进行p次，例如常见的10次10折交叉验证。"
   ]
  },
  {
   "cell_type": "markdown",
   "metadata": {},
   "source": [
    "**3. 自助法 bootstrapping**"
   ]
  },
  {
   "cell_type": "markdown",
   "metadata": {},
   "source": [
    "对含有$m$个样本的数据集进行有放回的随机取样$m$次形成训练集$D'$,测试集为$D-D'$\n",
    "\n",
    "- 适合数据集比较小，对集成学习有很大的好处\n",
    "\n",
    "\n",
    "- 改变了原始数据集的分布，会引入偏差，在数据量足够情况下，上面两种更常见"
   ]
  },
  {
   "cell_type": "markdown",
   "metadata": {},
   "source": [
    "### 模型的选择与调参"
   ]
  },
  {
   "cell_type": "markdown",
   "metadata": {},
   "source": [
    "**在研究不同对比不同算法的泛化性能时，我们用测试集上的判别效果来估计实际使用中的泛化能力，而把训练数据另外划分为训练集与验证集，基于验证集上的性能进行模型的选择与调参。**"
   ]
  },
  {
   "cell_type": "markdown",
   "metadata": {},
   "source": [
    "> 交叉验证 + 网格搜索\n",
    "\n",
    "**交叉验证：**为了让评估的模型更加准确可信\n",
    "\n",
    "**网格搜索**——超参数搜索\n",
    "\n",
    "通常情况下，有很多参数是需要手动指定的（如k-近邻算法中的K值），这种叫**超参数**。但是手动过程繁杂，所以需要对模型预设几种超参数组合。每组超参数都采用交叉验证来进行评估。最后选出最优参数组合建立模型。"
   ]
  },
  {
   "cell_type": "markdown",
   "metadata": {},
   "source": [
    "**`sklearn.model_selection.GridSearchCV(estimator, param_grid=None,cv=None)`**\n",
    "\n",
    "对估计器的指定参数值进行详尽搜索\n",
    "\n",
    "estimator：估计器对象 #实例化之后的\n",
    "\n",
    "param_grid：估计器参数(dict){“n_neighbors”:[1,3,5]}\n",
    "\n",
    "cv：指定几折交叉验证\n",
    "\n",
    "\\-------------------------------\n",
    "\n",
    "fit(x_train,y_train)：输入训练数据\n",
    "\n",
    "score(x_test,y_test)：准确率\n",
    "\n",
    "结果分析：\n",
    "\n",
    "属性：\n",
    "\n",
    "best_score_:在交叉验证中测试的最好结果\n",
    "\n",
    "best_estimator_：最好的参数模型\n",
    "\n",
    "cv_results_:每次交叉验证后的测试集准确率结果和训练集准确率结果"
   ]
  },
  {
   "cell_type": "code",
   "execution_count": null,
   "metadata": {},
   "outputs": [],
   "source": []
  }
 ],
 "metadata": {
  "kernelspec": {
   "display_name": "Python 3",
   "language": "python",
   "name": "python3"
  },
  "language_info": {
   "codemirror_mode": {
    "name": "ipython",
    "version": 3
   },
   "file_extension": ".py",
   "mimetype": "text/x-python",
   "name": "python",
   "nbconvert_exporter": "python",
   "pygments_lexer": "ipython3",
   "version": "3.8.5"
  }
 },
 "nbformat": 4,
 "nbformat_minor": 4
}
